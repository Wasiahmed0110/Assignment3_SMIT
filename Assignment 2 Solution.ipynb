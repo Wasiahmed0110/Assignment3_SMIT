{
 "cells": [
  {
   "cell_type": "markdown",
   "id": "0fd5ccba-c629-4064-aad8-812be56418fc",
   "metadata": {},
   "source": [
    "# Area Of a Reactangle\n"
   ]
  },
  {
   "cell_type": "code",
   "execution_count": 6,
   "id": "7df7b6f3-2ee7-4d4b-898f-480c7c1e2bda",
   "metadata": {},
   "outputs": [
    {
     "name": "stdin",
     "output_type": "stream",
     "text": [
      "Enter the length:  2\n",
      "Enter the height:  2\n"
     ]
    },
    {
     "name": "stdout",
     "output_type": "stream",
     "text": [
      "The area of the Reactangle is: 4.0\n"
     ]
    }
   ],
   "source": [
    "length = float(input(\"Enter the length: \"))\n",
    "height = float(input(\"Enter the height: \"))\n",
    "area = length*height\n",
    "print(\"The area of the Reactangle is:\", area)"
   ]
  },
  {
   "cell_type": "markdown",
   "id": "f926ef85-b7df-4588-9944-808315f7d090",
   "metadata": {},
   "source": [
    "# Circumference of a Circle"
   ]
  },
  {
   "cell_type": "code",
   "execution_count": 11,
   "id": "1a7fba35-8019-4651-b5b3-1393cab559e2",
   "metadata": {},
   "outputs": [
    {
     "name": "stdin",
     "output_type": "stream",
     "text": [
      "Enter the radius of circle:  2\n"
     ]
    },
    {
     "name": "stdout",
     "output_type": "stream",
     "text": [
      "The circumferenceo of a Circle is:  12.571428571428571\n"
     ]
    }
   ],
   "source": [
    "radius = float(input(\"Enter the radius of circle: \"))\n",
    "v_pi = float(22/7)\n",
    "c_circle = 2*v_pi*radius\n",
    "print(\"The circumferenceo of a Circle is: \",c_circle)"
   ]
  },
  {
   "cell_type": "markdown",
   "id": "7bcc2276-10b3-4aa3-8683-01d6fa06abb8",
   "metadata": {},
   "source": [
    "# Simple Intrest"
   ]
  },
  {
   "cell_type": "code",
   "execution_count": 15,
   "id": "e7fcb233-62b1-4aa6-9693-53be7336e9c5",
   "metadata": {},
   "outputs": [
    {
     "name": "stdin",
     "output_type": "stream",
     "text": [
      "Enter the Principal amount:  20\n",
      "Enter the Intrest rate:  10\n",
      "Enter the duration:  2\n"
     ]
    },
    {
     "name": "stdout",
     "output_type": "stream",
     "text": [
      "The Simple Intrest of the given data is:  400.0\n"
     ]
    }
   ],
   "source": [
    "principal = float(input(\"Enter the Principal amount: \"))\n",
    "rate = float(input(\"Enter the Intrest rate: \"))\n",
    "time = int(input(\"Enter the duration: \"))\n",
    "s_intrest = principal*rate*time\n",
    "print(\"The Simple Intrest of the given data is: \",s_intrest)"
   ]
  },
  {
   "cell_type": "markdown",
   "id": "019d4c5e-cd9f-4497-9e69-dc14a39d9ed2",
   "metadata": {},
   "source": [
    "# Speed of an Object"
   ]
  },
  {
   "cell_type": "code",
   "execution_count": 20,
   "id": "6d6b8896-f311-4796-9b06-a500012840e5",
   "metadata": {},
   "outputs": [
    {
     "name": "stdin",
     "output_type": "stream",
     "text": [
      "Enter the Distance:  50\n",
      "Enter the Time:  6\n"
     ]
    },
    {
     "name": "stdout",
     "output_type": "stream",
     "text": [
      "The Speed is:  8.333333333333334\n"
     ]
    }
   ],
   "source": [
    "d = float(input(\"Enter the Distance: \"))\n",
    "t = float(input(\"Enter the Time: \"))\n",
    "s = d/t\n",
    "print(\"The Speed is: \", s)"
   ]
  },
  {
   "cell_type": "markdown",
   "id": "fd3a3d7d-42f0-4308-ac5c-9b241313ef67",
   "metadata": {},
   "source": [
    "# BMI Calculator"
   ]
  },
  {
   "cell_type": "code",
   "execution_count": 23,
   "id": "a1594903-b343-4e37-8a43-127fb1686f94",
   "metadata": {},
   "outputs": [
    {
     "name": "stdin",
     "output_type": "stream",
     "text": [
      "Enter the Weight in KG:  20\n",
      "Enter the Height in Meters(m):  2\n"
     ]
    },
    {
     "name": "stdout",
     "output_type": "stream",
     "text": [
      "The BMI is:  5.0\n"
     ]
    }
   ],
   "source": [
    "w = float(input(\"Enter the Weight in KG: \"))\n",
    "h = float(input(\"Enter the Height in Meters(m): \"))\n",
    "h_1 = h*h\n",
    "BMI = w/h_1\n",
    "print(\"The BMI is: \", BMI)"
   ]
  },
  {
   "cell_type": "markdown",
   "id": "d57803d5-21dc-479f-872f-27f5fe747fe5",
   "metadata": {},
   "source": [
    "# 6-Force Calculation"
   ]
  },
  {
   "cell_type": "code",
   "execution_count": 12,
   "id": "97e17301-4af3-44e5-872f-91cbba594129",
   "metadata": {},
   "outputs": [
    {
     "name": "stdin",
     "output_type": "stream",
     "text": [
      " Enter mass in KG:  2\n",
      " Enter acceleration in (m/s^2):  2\n"
     ]
    },
    {
     "name": "stdout",
     "output_type": "stream",
     "text": [
      "The Force is:  4.0 N\n"
     ]
    }
   ],
   "source": [
    "m = float(input(\" Enter mass in KG: \",))\n",
    "a = float(input(\" Enter acceleration in (m/s^2): \"))\n",
    "f = m*a\n",
    "print(\"The Force is: \",f,\"N\")"
   ]
  },
  {
   "cell_type": "markdown",
   "id": "d68c0865-e6c3-4de7-ac2b-ebcd4d593d06",
   "metadata": {},
   "source": [
    "# 7- Compound Intrest"
   ]
  },
  {
   "cell_type": "code",
   "execution_count": 7,
   "id": "bb2c7e24-2dad-430e-8a20-1c382f8473b1",
   "metadata": {},
   "outputs": [
    {
     "name": "stdin",
     "output_type": "stream",
     "text": [
      "Enter Principal amount:  2\n",
      "Enter annual intrest rate:  10\n",
      "Enter the Iterations:  2\n",
      "Enter Time (in years):  1\n"
     ]
    },
    {
     "name": "stdout",
     "output_type": "stream",
     "text": [
      "The Compound Intrest is:  71.0\n"
     ]
    }
   ],
   "source": [
    "p = float(input(\"Enter Principal amount: \"))\n",
    "r = float(input(\"Enter annual intrest rate: \"))\n",
    "n = int(input(\"Enter the Iterations: \"))\n",
    "t = float(input(\"Enter Time (in years): \"))\n",
    "a = p*(1+(r/n))**n-t\n",
    "print(\"The Compound Intrest is: \",a)"
   ]
  },
  {
   "cell_type": "markdown",
   "id": "24053d00-30d1-4291-abb2-6160c61e0c02",
   "metadata": {},
   "source": [
    "# 8-Perimeter of Triangle"
   ]
  },
  {
   "cell_type": "code",
   "execution_count": 10,
   "id": "8d0a225b-f6f3-4e24-948e-99add159ffc8",
   "metadata": {},
   "outputs": [
    {
     "name": "stdin",
     "output_type": "stream",
     "text": [
      "Enter side a:  4\n",
      "Enter side b:  4\n",
      "Enter side c:  4\n"
     ]
    },
    {
     "name": "stdout",
     "output_type": "stream",
     "text": [
      "Perimeter of the triangle is: 12.0\n"
     ]
    }
   ],
   "source": [
    "a = float(input(\"Enter side a: \"))\n",
    "b = float(input(\"Enter side b: \"))\n",
    "c = float(input(\"Enter side c: \"))\n",
    "perimeter = a + b + c\n",
    "print(\"Perimeter of the triangle is:\", perimeter)"
   ]
  },
  {
   "cell_type": "markdown",
   "id": "c1f9b906-eb40-4b3b-9aa5-f3dae780d316",
   "metadata": {},
   "source": [
    "# 9-Volume of a Sphere"
   ]
  },
  {
   "cell_type": "code",
   "execution_count": 19,
   "id": "818c9b43-9f7e-422d-9e9e-51adf8869671",
   "metadata": {},
   "outputs": [
    {
     "name": "stdin",
     "output_type": "stream",
     "text": [
      "Enter the radius:  2\n"
     ]
    },
    {
     "name": "stdout",
     "output_type": "stream",
     "text": [
      "The volume is:  33.52380952380952\n"
     ]
    }
   ],
   "source": [
    "r = float(input(\"Enter the radius: \"))\n",
    "v = (4/3)*(22/7)*r**3\n",
    "print(\"The volume is: \",v)"
   ]
  },
  {
   "cell_type": "markdown",
   "id": "383f70c3-bd5f-40de-a062-7646c5b74d29",
   "metadata": {},
   "source": [
    "# 10-Kinetic Energy"
   ]
  },
  {
   "cell_type": "code",
   "execution_count": 26,
   "id": "24bd9241-e5d1-4f8a-8744-8fc7fc9c90b7",
   "metadata": {},
   "outputs": [
    {
     "name": "stdin",
     "output_type": "stream",
     "text": [
      "Enter mass (in kilograms):  22.5\n",
      "Enter velocity (in m/s):  3.1\n"
     ]
    },
    {
     "name": "stdout",
     "output_type": "stream",
     "text": [
      "Kinetic Energy is: 108.11250000000001\n"
     ]
    }
   ],
   "source": [
    "mass = float(input(\"Enter mass (in kilograms): \"))\n",
    "velocity = float(input(\"Enter velocity (in m/s): \"))\n",
    "kinetic_energy = 0.5 * mass * (velocity ** 2)\n",
    "print(\"Kinetic Energy is:\", kinetic_energy)"
   ]
  },
  {
   "cell_type": "markdown",
   "id": "a0f37369-a649-4b0a-ab55-732186047f39",
   "metadata": {},
   "source": [
    "# 11-Quadratic Equation"
   ]
  },
  {
   "cell_type": "code",
   "execution_count": 44,
   "id": "1bca3524-f8eb-4828-bd2f-b2650ce90833",
   "metadata": {},
   "outputs": [
    {
     "name": "stdin",
     "output_type": "stream",
     "text": [
      "Enter the value of a:  2\n",
      "Enter the value of b:  45\n",
      "Enter the value of c:  1\n"
     ]
    },
    {
     "name": "stdout",
     "output_type": "stream",
     "text": [
      "Roots are:  -0.022244213557190307 and -22.47775578644281\n"
     ]
    }
   ],
   "source": [
    "import math\n",
    "a = float(input(\"Enter the value of a: \"))\n",
    "b = float(input(\"Enter the value of b: \"))\n",
    "c = float(input(\"Enter the value of c: \"))\n",
    "dis = b**2 - 4*a*c\n",
    "if dis >= 0:\n",
    "    root1 = (-b + math.sqrt(dis))/(2*a)\n",
    "    root2 = (-b - math.sqrt(dis))/(2*a)\n",
    "    print(\"Roots are: \", root1, \"and\", root2)\n",
    "else:\n",
    "    print(\"Real roots doesn't exist.\")"
   ]
  },
  {
   "cell_type": "markdown",
   "id": "83d3320f-bb44-4776-9b6d-0310f2cde727",
   "metadata": {},
   "source": [
    "# 12-Temperature Conversion"
   ]
  },
  {
   "cell_type": "code",
   "execution_count": 48,
   "id": "6162d5ee-4e54-4567-a413-501f1336ccb9",
   "metadata": {},
   "outputs": [
    {
     "name": "stdin",
     "output_type": "stream",
     "text": [
      "Enter temperature in Celsius:  23\n"
     ]
    },
    {
     "name": "stdout",
     "output_type": "stream",
     "text": [
      "Temperature in Fahrenheit is: 73.4\n"
     ]
    }
   ],
   "source": [
    "celsius = float(input(\"Enter temperature in Celsius: \"))\n",
    "fahrenheit = (celsius * 9/5) + 32\n",
    "print(\"Temperature in Fahrenheit is:\", fahrenheit)"
   ]
  },
  {
   "cell_type": "markdown",
   "id": "8dbda7e1-2e90-441d-96b0-00b630f2fff1",
   "metadata": {},
   "source": [
    "# 13-Gravitaional Force "
   ]
  },
  {
   "cell_type": "code",
   "execution_count": 58,
   "id": "e0012774-b3d7-4be1-a72d-d64e18499248",
   "metadata": {},
   "outputs": [
    {
     "name": "stdin",
     "output_type": "stream",
     "text": [
      "Enter mass of first object (in kg):  2e+31\n",
      "Enter mass of second object (in kg):  3e+21\n",
      "Enter distance between the objects (in meters):  45\n"
     ]
    },
    {
     "name": "stdout",
     "output_type": "stream",
     "text": [
      "Gravitational Force is: 1.9762962962962963e+39\n"
     ]
    }
   ],
   "source": [
    "G = 6.67e-11\n",
    "m1 = float(input(\"Enter mass of first object (in kg): \"))\n",
    "m2 = float(input(\"Enter mass of second object (in kg): \"))\n",
    "r = float(input(\"Enter distance between the objects (in meters): \"))\n",
    "force = G * (m1 * m2) / (r ** 2)\n",
    "print(\"Gravitational Force is:\", force)\n"
   ]
  },
  {
   "cell_type": "markdown",
   "id": "2d1fe097-018b-4121-b4f8-eee5da6aad0c",
   "metadata": {},
   "source": [
    "# 14-Volume of a Cylinder "
   ]
  },
  {
   "cell_type": "code",
   "execution_count": 61,
   "id": "f1c49903-e26c-416c-a03d-03b051d0c85f",
   "metadata": {},
   "outputs": [
    {
     "name": "stdin",
     "output_type": "stream",
     "text": [
      "Enter radius:  5\n",
      "Enter height:  2\n"
     ]
    },
    {
     "name": "stdout",
     "output_type": "stream",
     "text": [
      "Volume of the cylinder is: 157.07963267948966\n"
     ]
    }
   ],
   "source": [
    "radius = float(input(\"Enter radius: \"))\n",
    "height = float(input(\"Enter height: \"))\n",
    "volume = math.pi * (radius ** 2) * height\n",
    "print(\"Volume of the cylinder is:\", volume)"
   ]
  },
  {
   "cell_type": "markdown",
   "id": "f26fb0cf-0c0f-45f3-aa77-31dc7019a7c8",
   "metadata": {},
   "source": [
    "# 15-Perssure"
   ]
  },
  {
   "cell_type": "code",
   "execution_count": 64,
   "id": "1ef57306-683b-4705-8391-e7ec8bee4c1f",
   "metadata": {},
   "outputs": [
    {
     "name": "stdin",
     "output_type": "stream",
     "text": [
      "Enter force (in newtons):  14\n",
      "Enter area (in square meters):  6\n"
     ]
    },
    {
     "name": "stdout",
     "output_type": "stream",
     "text": [
      "Pressure is: 2.3333333333333335\n"
     ]
    }
   ],
   "source": [
    "force = float(input(\"Enter force (in newtons): \"))\n",
    "area = float(input(\"Enter area (in square meters): \"))\n",
    "pressure = force / area\n",
    "print(\"Pressure is:\", pressure)"
   ]
  },
  {
   "cell_type": "markdown",
   "id": "cb459edc-5f51-4464-ba2e-fe7f7dd1aca8",
   "metadata": {},
   "source": [
    "# 16-Electic Power"
   ]
  },
  {
   "cell_type": "code",
   "execution_count": 67,
   "id": "f096766d-1873-43f4-9679-554cf76ba9b3",
   "metadata": {},
   "outputs": [
    {
     "name": "stdin",
     "output_type": "stream",
     "text": [
      "Enter voltage (in volts):  23\n",
      "Enter current (in amperes):  4\n"
     ]
    },
    {
     "name": "stdout",
     "output_type": "stream",
     "text": [
      "Electric Power is: 92.0\n"
     ]
    }
   ],
   "source": [
    "voltage = float(input(\"Enter voltage (in volts): \"))\n",
    "current = float(input(\"Enter current (in amperes): \"))\n",
    "power = voltage * current\n",
    "print(\"Electric Power is:\", power)"
   ]
  },
  {
   "cell_type": "markdown",
   "id": "e488f90c-8e0d-4c0c-95bf-10c64c985476",
   "metadata": {},
   "source": [
    "# 17-Perimeter of a Circle (Circumference)"
   ]
  },
  {
   "cell_type": "code",
   "execution_count": 70,
   "id": "dbae2299-d1e1-4574-b880-871467e2711f",
   "metadata": {},
   "outputs": [
    {
     "name": "stdin",
     "output_type": "stream",
     "text": [
      "Enter radius:  4\n"
     ]
    },
    {
     "name": "stdout",
     "output_type": "stream",
     "text": [
      "Circumference of the circle is: 25.132741228718345\n"
     ]
    }
   ],
   "source": [
    "radius = float(input(\"Enter radius: \"))\n",
    "circumference = 2 * math.pi * radius\n",
    "print(\"Circumference of the circle is:\", circumference)"
   ]
  },
  {
   "cell_type": "markdown",
   "id": "020f0341-2d89-46de-9c91-1f7b41c506cf",
   "metadata": {},
   "source": [
    "# 18-Future Value in Savings"
   ]
  },
  {
   "cell_type": "code",
   "execution_count": 74,
   "id": "904a2a6c-7182-4fc1-be09-1812e87b5807",
   "metadata": {},
   "outputs": [
    {
     "name": "stdin",
     "output_type": "stream",
     "text": [
      "Enter present value:  5\n",
      "Enter annual interest rate (as a decimal):  2\n",
      "Enter time (in years):  4\n"
     ]
    },
    {
     "name": "stdout",
     "output_type": "stream",
     "text": [
      "Future Value is: 405.0\n"
     ]
    }
   ],
   "source": [
    "pv = float(input(\"Enter present value: \"))\n",
    "rate = float(input(\"Enter annual interest rate (as a decimal): \"))\n",
    "time = float(input(\"Enter time (in years): \"))\n",
    "fv = pv * (1 + rate) ** time\n",
    "print(\"Future Value is:\", fv)"
   ]
  },
  {
   "cell_type": "markdown",
   "id": "d4737276-1ecb-4907-8edf-297ab473b5a4",
   "metadata": {},
   "source": [
    "# 19-Work Done by a Force"
   ]
  },
  {
   "cell_type": "code",
   "execution_count": 77,
   "id": "3ccfae53-6214-47cd-8e47-076ccf074586",
   "metadata": {},
   "outputs": [
    {
     "name": "stdin",
     "output_type": "stream",
     "text": [
      "Enter force (in newtons):  90\n",
      "Enter distance (in meters):  10\n",
      "Enter angle (in degrees):  45\n"
     ]
    },
    {
     "name": "stdout",
     "output_type": "stream",
     "text": [
      "Work Done is: 636.3961030678928\n"
     ]
    }
   ],
   "source": [
    "import math\n",
    "force = float(input(\"Enter force (in newtons): \"))\n",
    "distance = float(input(\"Enter distance (in meters): \"))\n",
    "theta = float(input(\"Enter angle (in degrees): \"))\n",
    "work_done = force * distance * math.cos(math.radians(theta))\n",
    "print(\"Work Done is:\", work_done)"
   ]
  },
  {
   "cell_type": "markdown",
   "id": "2519e7e7-3b28-4999-ba60-be451e59045b",
   "metadata": {},
   "source": [
    "# 20-Heat Transfer"
   ]
  },
  {
   "cell_type": "code",
   "execution_count": 82,
   "id": "b6816c77-26c0-41c5-98dd-e6de92ae4583",
   "metadata": {},
   "outputs": [
    {
     "name": "stdin",
     "output_type": "stream",
     "text": [
      "Enter mass (in kg):  2\n",
      "Enter specific heat capacity (in J/kg°C):  45\n",
      "Enter change in temperature (in °C):  90\n"
     ]
    },
    {
     "name": "stdout",
     "output_type": "stream",
     "text": [
      "Heat transferred is: 8100.0 Joules\n"
     ]
    }
   ],
   "source": [
    "mass = float(input(\"Enter mass (in kg): \"))\n",
    "specific_heat = float(input(\"Enter specific heat capacity (in J/kg°C): \"))\n",
    "delta_T = float(input(\"Enter change in temperature (in °C): \"))\n",
    "heat_transfer = mass * specific_heat * delta_T\n",
    "print(\"Heat transferred is:\", heat_transfer, \"Joules\")"
   ]
  },
  {
   "cell_type": "code",
   "execution_count": null,
   "id": "34677b5c-eed3-433a-ba57-6a87c0adcf5f",
   "metadata": {},
   "outputs": [],
   "source": []
  }
 ],
 "metadata": {
  "kernelspec": {
   "display_name": "Python 3 (ipykernel)",
   "language": "python",
   "name": "python3"
  },
  "language_info": {
   "codemirror_mode": {
    "name": "ipython",
    "version": 3
   },
   "file_extension": ".py",
   "mimetype": "text/x-python",
   "name": "python",
   "nbconvert_exporter": "python",
   "pygments_lexer": "ipython3",
   "version": "3.12.7"
  }
 },
 "nbformat": 4,
 "nbformat_minor": 5
}
